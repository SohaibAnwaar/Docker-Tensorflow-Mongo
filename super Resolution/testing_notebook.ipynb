{
 "cells": [
  {
   "cell_type": "code",
   "execution_count": 1,
   "id": "20cb7c08",
   "metadata": {},
   "outputs": [],
   "source": [
    "from utils import predict"
   ]
  },
  {
   "cell_type": "markdown",
   "id": "2ba0d250",
   "metadata": {},
   "source": [
    "# Looping through Mongo DB"
   ]
  },
  {
   "cell_type": "code",
   "execution_count": 2,
   "id": "c7a7c65b",
   "metadata": {},
   "outputs": [],
   "source": [
    "import os\n",
    "import pymongo\n",
    "import time\n",
    "\n",
    "\n",
    "\n",
    "connectionString = \"mongodb://192.168.18.4:27017/model_requests\";\n",
    "client = pymongo.MongoClient(connectionString)\n",
    "db    = client.model_requests #test is my database\n",
    "col   = db.req #Here spam is my collection\n",
    "        \n",
    "\n",
    "def start_processing():\n",
    "    global col\n",
    "    \n",
    "    while True:\n",
    "        try:\n",
    "            # Querying to db\n",
    "            array = col.find_one({ \"results\" : { \"$exists\": False } })\n",
    "\n",
    "            # Getting values from db\n",
    "            _id     = array[\"_id\"]\n",
    "            request = array[\"request_id\"]\n",
    "            base_64 = array[\"base64\"]\n",
    "\n",
    "\n",
    "            # Predicting Image\n",
    "            st_time = time.time()\n",
    "            image   = predict(base_64)\n",
    "            col.update({\"_id\":_id},{\"$set\":{\"results\":image}})\n",
    "            print(f\"Request processed in {time.time()-st_time}\")\n",
    "        # Passes None Type error means no entry to process\n",
    "        except TypeError as e:\n",
    "            time.sleep(2)\n",
    "\n",
    "        except StopIteration as e:\n",
    "            col.update({\"_id\":_id},{\"$set\":{\"results\":\"Exception Occured\"}})\n",
    "            time.sleep(1)"
   ]
  },
  {
   "cell_type": "code",
   "execution_count": null,
   "id": "f2098f32",
   "metadata": {},
   "outputs": [
    {
     "name": "stderr",
     "output_type": "stream",
     "text": [
      "/home/sohaib/anaconda3/envs/tensorflow2/lib/python3.7/site-packages/ipykernel_launcher.py:30: DeprecationWarning: update is deprecated. Use replace_one, update_one or update_many instead.\n"
     ]
    },
    {
     "name": "stdout",
     "output_type": "stream",
     "text": [
      "Request processed in 1.292496919631958\n",
      "Request processed in 1.210984468460083\n",
      "Request processed in 1.2047390937805176\n",
      "Request processed in 1.2347443103790283\n",
      "Request processed in 1.2354652881622314\n",
      "Request processed in 1.233144998550415\n",
      "Request processed in 1.2279233932495117\n",
      "Request processed in 1.219313383102417\n",
      "Request processed in 1.2637701034545898\n",
      "Request processed in 1.21785306930542\n",
      "Request processed in 1.212526798248291\n",
      "Request processed in 1.2005317211151123\n",
      "Request processed in 1.187180519104004\n",
      "Request processed in 1.192324161529541\n",
      "Request processed in 1.1930246353149414\n",
      "Request processed in 1.2059900760650635\n",
      "Request processed in 1.2011113166809082\n",
      "Request processed in 1.204451322555542\n",
      "Request processed in 1.204455852508545\n"
     ]
    }
   ],
   "source": [
    "start_processing()\n"
   ]
  },
  {
   "cell_type": "code",
   "execution_count": null,
   "id": "f250d7ce",
   "metadata": {},
   "outputs": [],
   "source": []
  }
 ],
 "metadata": {
  "kernelspec": {
   "display_name": "Python 3",
   "language": "python",
   "name": "python3"
  },
  "language_info": {
   "codemirror_mode": {
    "name": "ipython",
    "version": 3
   },
   "file_extension": ".py",
   "mimetype": "text/x-python",
   "name": "python",
   "nbconvert_exporter": "python",
   "pygments_lexer": "ipython3",
   "version": "3.7.10"
  }
 },
 "nbformat": 4,
 "nbformat_minor": 5
}
