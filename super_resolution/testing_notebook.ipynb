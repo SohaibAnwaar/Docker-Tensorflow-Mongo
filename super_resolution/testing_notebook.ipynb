{
 "cells": [
  {
   "cell_type": "code",
   "execution_count": 3,
   "id": "20cb7c08",
   "metadata": {},
   "outputs": [],
   "source": [
    "from utils import predict"
   ]
  },
  {
   "cell_type": "markdown",
   "id": "43466b37",
   "metadata": {},
   "source": [
    "# Looping through Mongo DB"
   ]
  },
  {
   "cell_type": "code",
   "execution_count": 7,
   "id": "c7a7c65b",
   "metadata": {},
   "outputs": [],
   "source": [
    "import os\n",
    "import pymongo\n",
    "import time\n",
    "\n",
    "\n",
    "\n",
    "connectionString = \"mongodb://192.168.18.4:27017/model_requests\";\n",
    "client = pymongo.MongoClient(connectionString)\n",
    "db    = client.model_requests #test is my database\n",
    "col   = db.req #Here spam is my collection\n",
    "        \n",
    "\n",
    "def start_processing():\n",
    "    global col\n",
    "    \n",
    "    while True:\n",
    "        try:\n",
    "            # Querying to db\n",
    "            array = col.find_one({ \"results\" : { \"$exists\": False } })\n",
    "\n",
    "            # Getting values from db\n",
    "            _id     = array[\"_id\"]\n",
    "            request = array[\"request_id\"]\n",
    "            base_64 = array[\"base64\"]\n",
    "\n",
    "\n",
    "            # Predicting Image\n",
    "            st_time = time.time()\n",
    "            image   = predict(base_64)\n",
    "            col.update({\"_id\":_id},{\"$set\":{\"results\":image}})\n",
    "            print(f\"Request processed in {time.time()-st_time}\")\n",
    "        # Passes None Type error means no entry to process\n",
    "        except TypeError as e:\n",
    "            time.sleep(2)\n",
    "\n",
    "        except StopIteration as e:\n",
    "            col.update({\"_id\":_id},{\"$set\":{\"results\":\"Exception Occured\"}})\n",
    "            time.sleep(1)"
   ]
  },
  {
   "cell_type": "code",
   "execution_count": null,
   "id": "f2098f32",
   "metadata": {},
   "outputs": [
    {
     "name": "stderr",
     "output_type": "stream",
     "text": [
      "/usr/local/lib/python3.6/dist-packages/ipykernel_launcher.py:30: DeprecationWarning: update is deprecated. Use replace_one, update_one or update_many instead.\n"
     ]
    },
    {
     "name": "stdout",
     "output_type": "stream",
     "text": [
      "Request processed in 1.2697374820709229\n"
     ]
    }
   ],
   "source": [
    "start_processing()\n"
   ]
  },
  {
   "cell_type": "code",
   "execution_count": null,
   "id": "8704275d",
   "metadata": {},
   "outputs": [],
   "source": []
  }
 ],
 "metadata": {
  "kernelspec": {
   "display_name": "Python 3",
   "language": "python",
   "name": "python3"
  },
  "language_info": {
   "codemirror_mode": {
    "name": "ipython",
    "version": 3
   },
   "file_extension": ".py",
   "mimetype": "text/x-python",
   "name": "python",
   "nbconvert_exporter": "python",
   "pygments_lexer": "ipython3",
   "version": "3.6.9"
  }
 },
 "nbformat": 4,
 "nbformat_minor": 5
}
